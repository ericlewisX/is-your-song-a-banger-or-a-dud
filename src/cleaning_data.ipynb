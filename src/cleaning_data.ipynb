{
 "cells": [
  {
   "cell_type": "code",
   "execution_count": 27,
   "id": "12961aa2",
   "metadata": {
    "ExecuteTime": {
     "end_time": "2021-07-20T16:54:27.618959Z",
     "start_time": "2021-07-20T16:54:27.611155Z"
    }
   },
   "outputs": [],
   "source": [
    "# Imports\n",
    "import pandas as pd\n",
    "import numpy as np\n",
    "\n",
    "from datetime import datetime\n",
    "\n",
    "# Genre import\n",
    "import ast"
   ]
  },
  {
   "cell_type": "code",
   "execution_count": 3,
   "id": "70bf53e2",
   "metadata": {
    "ExecuteTime": {
     "end_time": "2021-07-20T16:48:07.738316Z",
     "start_time": "2021-07-20T16:47:57.103674Z"
    }
   },
   "outputs": [
    {
     "name": "stdout",
     "output_type": "stream",
     "text": [
      "(327895, 10) (29503, 22) (586672, 20)\n"
     ]
    }
   ],
   "source": [
    "# Importing Billboard Hot 100 Dataset (contains y-target) and Song Features (contains X-features)\n",
    "df = pd.read_csv('Hot Stuff.csv')\n",
    "features_df = pd.read_excel('Hot 100 Audio Features.xlsx')\n",
    "\n",
    "# Importing tracks dataset to balance dataset before model building\n",
    "df2 = pd.read_csv('data/tracks.csv')\n",
    "\n",
    "\n",
    "print(df.shape,features_df.shape, df2.shape)"
   ]
  },
  {
   "cell_type": "code",
   "execution_count": 4,
   "id": "457cf50f",
   "metadata": {
    "ExecuteTime": {
     "end_time": "2021-07-20T16:48:07.960575Z",
     "start_time": "2021-07-20T16:48:07.898102Z"
    }
   },
   "outputs": [],
   "source": [
    "hot100 = df.copy()\n",
    "hot100_features = features_df.copy()\n",
    "tracks = df2.copy()"
   ]
  },
  {
   "cell_type": "code",
   "execution_count": 5,
   "id": "f814bba6",
   "metadata": {
    "ExecuteTime": {
     "end_time": "2021-07-20T16:48:08.314717Z",
     "start_time": "2021-07-20T16:48:08.230965Z"
    }
   },
   "outputs": [],
   "source": [
    "# url, weekly position, instance, previous week position are all irrelevant to my goals.\n",
    "hot100.drop(['url', 'Week Position', 'Instance', 'Previous Week Position'], axis=1, inplace=True)\n",
    "\n",
    "# Url not needed. Album could be used for future projects, not for time crunch tasks. Popularity -> Data Leakage\n",
    "hot100_features.drop(['spotify_track_preview_url', 'spotify_track_album', 'spotify_track_popularity'], axis=1, inplace=True)\n",
    "\n",
    "# popularity might lead to data leakage\n",
    "tracks.drop(['popularity'], axis=1, inplace=True)"
   ]
  },
  {
   "cell_type": "code",
   "execution_count": 6,
   "id": "8e1bec1e",
   "metadata": {
    "ExecuteTime": {
     "end_time": "2021-07-20T16:48:08.823084Z",
     "start_time": "2021-07-20T16:48:08.529956Z"
    }
   },
   "outputs": [],
   "source": [
    "# Rename Columns and extract relevant strings\n",
    "tracks['artists'] = tracks['artists'].apply(lambda x: x[2:-2])\n",
    "tracks['id_artists'] = tracks['id_artists'].apply(lambda x: x[2:-2])\n",
    "\n",
    "tracks.rename(columns={'name':'Song', 'artists':'Performer',\n",
    "                       'id':'spotify_track_id'}, inplace=True)"
   ]
  },
  {
   "cell_type": "code",
   "execution_count": 7,
   "id": "81102309",
   "metadata": {
    "ExecuteTime": {
     "end_time": "2021-07-20T16:48:35.346796Z",
     "start_time": "2021-07-20T16:48:25.748931Z"
    }
   },
   "outputs": [],
   "source": [
    "perfect100 = hot100.groupby('SongID', group_keys=True).apply(lambda x: x.loc[x['Weeks on Chart'].idxmax()])"
   ]
  },
  {
   "cell_type": "code",
   "execution_count": 8,
   "id": "818a5257",
   "metadata": {
    "ExecuteTime": {
     "end_time": "2021-07-20T16:48:38.592286Z",
     "start_time": "2021-07-20T16:48:38.571062Z"
    }
   },
   "outputs": [
    {
     "data": {
      "text/plain": [
       "(29389, 6)"
      ]
     },
     "execution_count": 8,
     "metadata": {},
     "output_type": "execute_result"
    }
   ],
   "source": [
    "perfect100.shape"
   ]
  },
  {
   "cell_type": "code",
   "execution_count": 10,
   "id": "34736c42",
   "metadata": {
    "ExecuteTime": {
     "end_time": "2021-07-20T16:49:03.183201Z",
     "start_time": "2021-07-20T16:49:03.176440Z"
    }
   },
   "outputs": [],
   "source": [
    "perfect100.reset_index(inplace =True, drop = True)"
   ]
  },
  {
   "cell_type": "code",
   "execution_count": 12,
   "id": "d0f342da",
   "metadata": {
    "ExecuteTime": {
     "end_time": "2021-07-20T16:49:20.818997Z",
     "start_time": "2021-07-20T16:49:19.322733Z"
    }
   },
   "outputs": [],
   "source": [
    "# Converts WeekID entries (type str) to (type datetime)\n",
    "perfect100['WeekID'] = pd.to_datetime(perfect100['WeekID'])"
   ]
  },
  {
   "cell_type": "code",
   "execution_count": 13,
   "id": "909d3789",
   "metadata": {
    "ExecuteTime": {
     "end_time": "2021-07-20T16:50:25.533354Z",
     "start_time": "2021-07-20T16:50:25.499416Z"
    }
   },
   "outputs": [
    {
     "name": "stdout",
     "output_type": "stream",
     "text": [
      "<class 'pandas.core.frame.DataFrame'>\n",
      "RangeIndex: 29503 entries, 0 to 29502\n",
      "Data columns (total 19 columns):\n",
      " #   Column                     Non-Null Count  Dtype  \n",
      "---  ------                     --------------  -----  \n",
      " 0   SongID                     29503 non-null  object \n",
      " 1   Performer                  29503 non-null  object \n",
      " 2   Song                       29503 non-null  object \n",
      " 3   spotify_genre              27903 non-null  object \n",
      " 4   spotify_track_id           24397 non-null  object \n",
      " 5   spotify_track_duration_ms  24397 non-null  float64\n",
      " 6   spotify_track_explicit     24397 non-null  float64\n",
      " 7   danceability               24334 non-null  float64\n",
      " 8   energy                     24334 non-null  float64\n",
      " 9   key                        24334 non-null  float64\n",
      " 10  loudness                   24334 non-null  float64\n",
      " 11  mode                       24334 non-null  float64\n",
      " 12  speechiness                24334 non-null  float64\n",
      " 13  acousticness               24334 non-null  float64\n",
      " 14  instrumentalness           24334 non-null  float64\n",
      " 15  liveness                   24334 non-null  float64\n",
      " 16  valence                    24334 non-null  float64\n",
      " 17  tempo                      24334 non-null  float64\n",
      " 18  time_signature             24334 non-null  float64\n",
      "dtypes: float64(14), object(5)\n",
      "memory usage: 4.3+ MB\n"
     ]
    }
   ],
   "source": [
    "hot100_features.info()"
   ]
  },
  {
   "cell_type": "code",
   "execution_count": 14,
   "id": "9d3e463e",
   "metadata": {
    "ExecuteTime": {
     "end_time": "2021-07-20T16:50:41.280249Z",
     "start_time": "2021-07-20T16:50:41.207307Z"
    }
   },
   "outputs": [],
   "source": [
    "hot100_features.dropna(inplace =True)"
   ]
  },
  {
   "cell_type": "code",
   "execution_count": 15,
   "id": "d1f6746d",
   "metadata": {
    "ExecuteTime": {
     "end_time": "2021-07-20T16:50:50.735605Z",
     "start_time": "2021-07-20T16:50:50.701866Z"
    }
   },
   "outputs": [
    {
     "name": "stdout",
     "output_type": "stream",
     "text": [
      "<class 'pandas.core.frame.DataFrame'>\n",
      "Int64Index: 24186 entries, 2 to 29502\n",
      "Data columns (total 19 columns):\n",
      " #   Column                     Non-Null Count  Dtype  \n",
      "---  ------                     --------------  -----  \n",
      " 0   SongID                     24186 non-null  object \n",
      " 1   Performer                  24186 non-null  object \n",
      " 2   Song                       24186 non-null  object \n",
      " 3   spotify_genre              24186 non-null  object \n",
      " 4   spotify_track_id           24186 non-null  object \n",
      " 5   spotify_track_duration_ms  24186 non-null  float64\n",
      " 6   spotify_track_explicit     24186 non-null  float64\n",
      " 7   danceability               24186 non-null  float64\n",
      " 8   energy                     24186 non-null  float64\n",
      " 9   key                        24186 non-null  float64\n",
      " 10  loudness                   24186 non-null  float64\n",
      " 11  mode                       24186 non-null  float64\n",
      " 12  speechiness                24186 non-null  float64\n",
      " 13  acousticness               24186 non-null  float64\n",
      " 14  instrumentalness           24186 non-null  float64\n",
      " 15  liveness                   24186 non-null  float64\n",
      " 16  valence                    24186 non-null  float64\n",
      " 17  tempo                      24186 non-null  float64\n",
      " 18  time_signature             24186 non-null  float64\n",
      "dtypes: float64(14), object(5)\n",
      "memory usage: 3.7+ MB\n"
     ]
    }
   ],
   "source": [
    "# I'm good with the amount lost. Features-wise : 24334 - 24186 = 0.00666. Less than 1%.\n",
    "hot100_features.info()"
   ]
  },
  {
   "cell_type": "code",
   "execution_count": 16,
   "id": "78f76e21",
   "metadata": {
    "ExecuteTime": {
     "end_time": "2021-07-20T16:50:58.502796Z",
     "start_time": "2021-07-20T16:50:58.493322Z"
    }
   },
   "outputs": [
    {
     "data": {
      "text/plain": [
       "((29389, 6), (24186, 19))"
      ]
     },
     "execution_count": 16,
     "metadata": {},
     "output_type": "execute_result"
    }
   ],
   "source": [
    "perfect100.shape, hot100_features.shape"
   ]
  },
  {
   "cell_type": "code",
   "execution_count": 17,
   "id": "b80c53e0",
   "metadata": {
    "ExecuteTime": {
     "end_time": "2021-07-20T16:51:06.666091Z",
     "start_time": "2021-07-20T16:51:05.805590Z"
    }
   },
   "outputs": [
    {
     "data": {
      "text/plain": [
       "(24186, 24)"
      ]
     },
     "execution_count": 17,
     "metadata": {},
     "output_type": "execute_result"
    }
   ],
   "source": [
    "combo = pd.merge(perfect100, hot100_features, how='right', on ='SongID')\n",
    "combo.shape"
   ]
  },
  {
   "cell_type": "code",
   "execution_count": 18,
   "id": "8a9b4826",
   "metadata": {
    "ExecuteTime": {
     "end_time": "2021-07-20T16:52:10.292101Z",
     "start_time": "2021-07-20T16:52:10.254296Z"
    }
   },
   "outputs": [
    {
     "name": "stdout",
     "output_type": "stream",
     "text": [
      "<class 'pandas.core.frame.DataFrame'>\n",
      "Int64Index: 24186 entries, 0 to 24185\n",
      "Data columns (total 24 columns):\n",
      " #   Column                     Non-Null Count  Dtype         \n",
      "---  ------                     --------------  -----         \n",
      " 0   WeekID                     24185 non-null  datetime64[ns]\n",
      " 1   Song_x                     24185 non-null  object        \n",
      " 2   Performer_x                24185 non-null  object        \n",
      " 3   SongID                     24186 non-null  object        \n",
      " 4   Peak Position              24185 non-null  float64       \n",
      " 5   Weeks on Chart             24185 non-null  float64       \n",
      " 6   Performer_y                24186 non-null  object        \n",
      " 7   Song_y                     24186 non-null  object        \n",
      " 8   spotify_genre              24186 non-null  object        \n",
      " 9   spotify_track_id           24186 non-null  object        \n",
      " 10  spotify_track_duration_ms  24186 non-null  float64       \n",
      " 11  spotify_track_explicit     24186 non-null  float64       \n",
      " 12  danceability               24186 non-null  float64       \n",
      " 13  energy                     24186 non-null  float64       \n",
      " 14  key                        24186 non-null  float64       \n",
      " 15  loudness                   24186 non-null  float64       \n",
      " 16  mode                       24186 non-null  float64       \n",
      " 17  speechiness                24186 non-null  float64       \n",
      " 18  acousticness               24186 non-null  float64       \n",
      " 19  instrumentalness           24186 non-null  float64       \n",
      " 20  liveness                   24186 non-null  float64       \n",
      " 21  valence                    24186 non-null  float64       \n",
      " 22  tempo                      24186 non-null  float64       \n",
      " 23  time_signature             24186 non-null  float64       \n",
      "dtypes: datetime64[ns](1), float64(16), object(7)\n",
      "memory usage: 4.6+ MB\n"
     ]
    }
   ],
   "source": [
    "combo.info()"
   ]
  },
  {
   "cell_type": "code",
   "execution_count": 20,
   "id": "f912dc3e",
   "metadata": {
    "ExecuteTime": {
     "end_time": "2021-07-20T16:52:31.198886Z",
     "start_time": "2021-07-20T16:52:31.157221Z"
    }
   },
   "outputs": [
    {
     "data": {
      "text/html": [
       "<div>\n",
       "<style scoped>\n",
       "    .dataframe tbody tr th:only-of-type {\n",
       "        vertical-align: middle;\n",
       "    }\n",
       "\n",
       "    .dataframe tbody tr th {\n",
       "        vertical-align: top;\n",
       "    }\n",
       "\n",
       "    .dataframe thead th {\n",
       "        text-align: right;\n",
       "    }\n",
       "</style>\n",
       "<table border=\"1\" class=\"dataframe\">\n",
       "  <thead>\n",
       "    <tr style=\"text-align: right;\">\n",
       "      <th></th>\n",
       "      <th>WeekID</th>\n",
       "      <th>Song_x</th>\n",
       "      <th>Performer_x</th>\n",
       "      <th>SongID</th>\n",
       "      <th>Peak Position</th>\n",
       "      <th>Weeks on Chart</th>\n",
       "      <th>Performer_y</th>\n",
       "      <th>Song_y</th>\n",
       "      <th>spotify_genre</th>\n",
       "      <th>spotify_track_id</th>\n",
       "      <th>...</th>\n",
       "      <th>key</th>\n",
       "      <th>loudness</th>\n",
       "      <th>mode</th>\n",
       "      <th>speechiness</th>\n",
       "      <th>acousticness</th>\n",
       "      <th>instrumentalness</th>\n",
       "      <th>liveness</th>\n",
       "      <th>valence</th>\n",
       "      <th>tempo</th>\n",
       "      <th>time_signature</th>\n",
       "    </tr>\n",
       "  </thead>\n",
       "  <tbody>\n",
       "  </tbody>\n",
       "</table>\n",
       "<p>0 rows × 24 columns</p>\n",
       "</div>"
      ],
      "text/plain": [
       "Empty DataFrame\n",
       "Columns: [WeekID, Song_x, Performer_x, SongID, Peak Position, Weeks on Chart, Performer_y, Song_y, spotify_genre, spotify_track_id, spotify_track_duration_ms, spotify_track_explicit, danceability, energy, key, loudness, mode, speechiness, acousticness, instrumentalness, liveness, valence, tempo, time_signature]\n",
       "Index: []\n",
       "\n",
       "[0 rows x 24 columns]"
      ]
     },
     "execution_count": 20,
     "metadata": {},
     "output_type": "execute_result"
    }
   ],
   "source": [
    "combo[combo['Song_x'].isna()]"
   ]
  },
  {
   "cell_type": "code",
   "execution_count": 21,
   "id": "3f788546",
   "metadata": {
    "ExecuteTime": {
     "end_time": "2021-07-20T16:52:32.789481Z",
     "start_time": "2021-07-20T16:52:32.750103Z"
    }
   },
   "outputs": [],
   "source": [
    "combo.dropna(inplace =True)"
   ]
  },
  {
   "cell_type": "code",
   "execution_count": 22,
   "id": "00757727",
   "metadata": {
    "ExecuteTime": {
     "end_time": "2021-07-20T16:52:38.474903Z",
     "start_time": "2021-07-20T16:52:38.434741Z"
    }
   },
   "outputs": [
    {
     "name": "stdout",
     "output_type": "stream",
     "text": [
      "<class 'pandas.core.frame.DataFrame'>\n",
      "Int64Index: 24185 entries, 0 to 24185\n",
      "Data columns (total 24 columns):\n",
      " #   Column                     Non-Null Count  Dtype         \n",
      "---  ------                     --------------  -----         \n",
      " 0   WeekID                     24185 non-null  datetime64[ns]\n",
      " 1   Song_x                     24185 non-null  object        \n",
      " 2   Performer_x                24185 non-null  object        \n",
      " 3   SongID                     24185 non-null  object        \n",
      " 4   Peak Position              24185 non-null  float64       \n",
      " 5   Weeks on Chart             24185 non-null  float64       \n",
      " 6   Performer_y                24185 non-null  object        \n",
      " 7   Song_y                     24185 non-null  object        \n",
      " 8   spotify_genre              24185 non-null  object        \n",
      " 9   spotify_track_id           24185 non-null  object        \n",
      " 10  spotify_track_duration_ms  24185 non-null  float64       \n",
      " 11  spotify_track_explicit     24185 non-null  float64       \n",
      " 12  danceability               24185 non-null  float64       \n",
      " 13  energy                     24185 non-null  float64       \n",
      " 14  key                        24185 non-null  float64       \n",
      " 15  loudness                   24185 non-null  float64       \n",
      " 16  mode                       24185 non-null  float64       \n",
      " 17  speechiness                24185 non-null  float64       \n",
      " 18  acousticness               24185 non-null  float64       \n",
      " 19  instrumentalness           24185 non-null  float64       \n",
      " 20  liveness                   24185 non-null  float64       \n",
      " 21  valence                    24185 non-null  float64       \n",
      " 22  tempo                      24185 non-null  float64       \n",
      " 23  time_signature             24185 non-null  float64       \n",
      "dtypes: datetime64[ns](1), float64(16), object(7)\n",
      "memory usage: 4.6+ MB\n"
     ]
    }
   ],
   "source": [
    "combo.info()"
   ]
  },
  {
   "cell_type": "code",
   "execution_count": 1,
   "id": "21252b31",
   "metadata": {
    "ExecuteTime": {
     "end_time": "2021-09-03T20:31:57.209467Z",
     "start_time": "2021-09-03T20:31:57.206691Z"
    }
   },
   "outputs": [],
   "source": [
    "# Fix Duplicate Columns resultant from Merge. \n",
    "combo.drop(['Song_y','Performer_y'], axis = 1, inplace=True)\n",
    "combo.rename(columns={'Song_x':'Song', 'Performer_x':'Performer'}, \n",
    "             inplace=True)"
   ]
  },
  {
   "cell_type": "code",
   "execution_count": 26,
   "id": "97c98700",
   "metadata": {
    "ExecuteTime": {
     "end_time": "2021-07-20T16:53:59.544349Z",
     "start_time": "2021-07-20T16:53:59.537499Z"
    }
   },
   "outputs": [],
   "source": [
    "# Set new column for future binary classification\n",
    "combo['top100'] = 1"
   ]
  },
  {
   "cell_type": "code",
   "execution_count": null,
   "id": "97f417ca",
   "metadata": {},
   "outputs": [],
   "source": [
    "type(combo['spotify_genre'][10])"
   ]
  },
  {
   "cell_type": "code",
   "execution_count": 28,
   "id": "26185b7e",
   "metadata": {
    "ExecuteTime": {
     "end_time": "2021-07-20T16:54:58.159860Z",
     "start_time": "2021-07-20T16:54:57.836934Z"
    }
   },
   "outputs": [],
   "source": [
    "# Fix Genre column to actual lists\n",
    "combo['spotify_genre'] = combo['spotify_genre'].apply(lambda x: ast.literal_eval(x))"
   ]
  },
  {
   "cell_type": "code",
   "execution_count": 29,
   "id": "f082d4bb",
   "metadata": {
    "ExecuteTime": {
     "end_time": "2021-07-20T16:55:10.838925Z",
     "start_time": "2021-07-20T16:55:10.827931Z"
    }
   },
   "outputs": [
    {
     "data": {
      "text/plain": [
       "list"
      ]
     },
     "execution_count": 29,
     "metadata": {},
     "output_type": "execute_result"
    }
   ],
   "source": [
    "type(combo['spotify_genre'][10])"
   ]
  },
  {
   "cell_type": "markdown",
   "id": "bdf55e26",
   "metadata": {},
   "source": [
    "## Balancing Dataset"
   ]
  },
  {
   "cell_type": "code",
   "execution_count": 30,
   "id": "0432e5a0",
   "metadata": {
    "ExecuteTime": {
     "end_time": "2021-07-20T16:56:00.755745Z",
     "start_time": "2021-07-20T16:56:00.745757Z"
    }
   },
   "outputs": [
    {
     "data": {
      "text/plain": [
       "((24185, 23), (586672, 19))"
      ]
     },
     "execution_count": 30,
     "metadata": {},
     "output_type": "execute_result"
    }
   ],
   "source": [
    "# Combo, contains all the features of the unique Hot 100 songs\n",
    "# Tracks contains all the features of songs that may or may not be in the Hot 100.\n",
    "combo.shape, tracks.shape"
   ]
  },
  {
   "cell_type": "code",
   "execution_count": 31,
   "id": "9f90f468",
   "metadata": {
    "ExecuteTime": {
     "end_time": "2021-07-20T16:56:15.502114Z",
     "start_time": "2021-07-20T16:56:15.419960Z"
    }
   },
   "outputs": [
    {
     "data": {
      "text/html": [
       "<div>\n",
       "<style scoped>\n",
       "    .dataframe tbody tr th:only-of-type {\n",
       "        vertical-align: middle;\n",
       "    }\n",
       "\n",
       "    .dataframe tbody tr th {\n",
       "        vertical-align: top;\n",
       "    }\n",
       "\n",
       "    .dataframe thead th {\n",
       "        text-align: right;\n",
       "    }\n",
       "</style>\n",
       "<table border=\"1\" class=\"dataframe\">\n",
       "  <thead>\n",
       "    <tr style=\"text-align: right;\">\n",
       "      <th></th>\n",
       "      <th>spotify_track_id</th>\n",
       "      <th>Song</th>\n",
       "      <th>duration_ms</th>\n",
       "      <th>explicit</th>\n",
       "      <th>Performer</th>\n",
       "      <th>id_artists</th>\n",
       "      <th>release_date</th>\n",
       "      <th>danceability</th>\n",
       "      <th>energy</th>\n",
       "      <th>key</th>\n",
       "      <th>loudness</th>\n",
       "      <th>mode</th>\n",
       "      <th>speechiness</th>\n",
       "      <th>acousticness</th>\n",
       "      <th>instrumentalness</th>\n",
       "      <th>liveness</th>\n",
       "      <th>valence</th>\n",
       "      <th>tempo</th>\n",
       "      <th>time_signature</th>\n",
       "    </tr>\n",
       "  </thead>\n",
       "  <tbody>\n",
       "    <tr>\n",
       "      <th>86073</th>\n",
       "      <td>6or1bKJiZ06IlK0vFvY75k</td>\n",
       "      <td>Rap God</td>\n",
       "      <td>363521</td>\n",
       "      <td>1</td>\n",
       "      <td>Eminem</td>\n",
       "      <td>7dGJo4pcD2V6oG8kP0tJRR</td>\n",
       "      <td>2013-11-05</td>\n",
       "      <td>0.708</td>\n",
       "      <td>0.843</td>\n",
       "      <td>7</td>\n",
       "      <td>-2.66</td>\n",
       "      <td>1</td>\n",
       "      <td>0.314</td>\n",
       "      <td>0.397</td>\n",
       "      <td>0.0</td>\n",
       "      <td>0.799</td>\n",
       "      <td>0.625</td>\n",
       "      <td>148.14</td>\n",
       "      <td>4</td>\n",
       "    </tr>\n",
       "  </tbody>\n",
       "</table>\n",
       "</div>"
      ],
      "text/plain": [
       "             spotify_track_id     Song  duration_ms  explicit Performer  \\\n",
       "86073  6or1bKJiZ06IlK0vFvY75k  Rap God       363521         1    Eminem   \n",
       "\n",
       "                   id_artists release_date  danceability  energy  key  \\\n",
       "86073  7dGJo4pcD2V6oG8kP0tJRR   2013-11-05         0.708   0.843    7   \n",
       "\n",
       "       loudness  mode  speechiness  acousticness  instrumentalness  liveness  \\\n",
       "86073     -2.66     1        0.314         0.397               0.0     0.799   \n",
       "\n",
       "       valence   tempo  time_signature  \n",
       "86073    0.625  148.14               4  "
      ]
     },
     "execution_count": 31,
     "metadata": {},
     "output_type": "execute_result"
    }
   ],
   "source": [
    "tracks[tracks['spotify_track_id'] == \"6or1bKJiZ06IlK0vFvY75k\"]"
   ]
  },
  {
   "cell_type": "code",
   "execution_count": 32,
   "id": "1bcd5102",
   "metadata": {
    "ExecuteTime": {
     "end_time": "2021-07-20T16:56:19.909109Z",
     "start_time": "2021-07-20T16:56:19.864529Z"
    }
   },
   "outputs": [
    {
     "data": {
      "text/html": [
       "<div>\n",
       "<style scoped>\n",
       "    .dataframe tbody tr th:only-of-type {\n",
       "        vertical-align: middle;\n",
       "    }\n",
       "\n",
       "    .dataframe tbody tr th {\n",
       "        vertical-align: top;\n",
       "    }\n",
       "\n",
       "    .dataframe thead th {\n",
       "        text-align: right;\n",
       "    }\n",
       "</style>\n",
       "<table border=\"1\" class=\"dataframe\">\n",
       "  <thead>\n",
       "    <tr style=\"text-align: right;\">\n",
       "      <th></th>\n",
       "      <th>WeekID</th>\n",
       "      <th>Song</th>\n",
       "      <th>Performer</th>\n",
       "      <th>SongID</th>\n",
       "      <th>Peak Position</th>\n",
       "      <th>Weeks on Chart</th>\n",
       "      <th>spotify_genre</th>\n",
       "      <th>spotify_track_id</th>\n",
       "      <th>spotify_track_duration_ms</th>\n",
       "      <th>spotify_track_explicit</th>\n",
       "      <th>...</th>\n",
       "      <th>loudness</th>\n",
       "      <th>mode</th>\n",
       "      <th>speechiness</th>\n",
       "      <th>acousticness</th>\n",
       "      <th>instrumentalness</th>\n",
       "      <th>liveness</th>\n",
       "      <th>valence</th>\n",
       "      <th>tempo</th>\n",
       "      <th>time_signature</th>\n",
       "      <th>top100</th>\n",
       "    </tr>\n",
       "  </thead>\n",
       "  <tbody>\n",
       "    <tr>\n",
       "      <th>16054</th>\n",
       "      <td>2014-03-15</td>\n",
       "      <td>Rap God</td>\n",
       "      <td>Eminem</td>\n",
       "      <td>Rap GodEminem</td>\n",
       "      <td>7.0</td>\n",
       "      <td>20.0</td>\n",
       "      <td>[detroit hip hop, g funk, hip hop, rap]</td>\n",
       "      <td>6or1bKJiZ06IlK0vFvY75k</td>\n",
       "      <td>363521.0</td>\n",
       "      <td>1.0</td>\n",
       "      <td>...</td>\n",
       "      <td>-2.66</td>\n",
       "      <td>1.0</td>\n",
       "      <td>0.314</td>\n",
       "      <td>0.397</td>\n",
       "      <td>0.0</td>\n",
       "      <td>0.799</td>\n",
       "      <td>0.625</td>\n",
       "      <td>148.14</td>\n",
       "      <td>4.0</td>\n",
       "      <td>1</td>\n",
       "    </tr>\n",
       "  </tbody>\n",
       "</table>\n",
       "<p>1 rows × 23 columns</p>\n",
       "</div>"
      ],
      "text/plain": [
       "          WeekID     Song Performer         SongID  Peak Position  \\\n",
       "16054 2014-03-15  Rap God    Eminem  Rap GodEminem            7.0   \n",
       "\n",
       "       Weeks on Chart                            spotify_genre  \\\n",
       "16054            20.0  [detroit hip hop, g funk, hip hop, rap]   \n",
       "\n",
       "             spotify_track_id  spotify_track_duration_ms  \\\n",
       "16054  6or1bKJiZ06IlK0vFvY75k                   363521.0   \n",
       "\n",
       "       spotify_track_explicit  ...  loudness  mode  speechiness  acousticness  \\\n",
       "16054                     1.0  ...     -2.66   1.0        0.314         0.397   \n",
       "\n",
       "       instrumentalness  liveness  valence   tempo  time_signature  top100  \n",
       "16054               0.0     0.799    0.625  148.14             4.0       1  \n",
       "\n",
       "[1 rows x 23 columns]"
      ]
     },
     "execution_count": 32,
     "metadata": {},
     "output_type": "execute_result"
    }
   ],
   "source": [
    "combo[combo['spotify_track_id'] == \"6or1bKJiZ06IlK0vFvY75k\"]"
   ]
  },
  {
   "cell_type": "code",
   "execution_count": 33,
   "id": "3efb1290",
   "metadata": {
    "ExecuteTime": {
     "end_time": "2021-07-20T16:57:30.395050Z",
     "start_time": "2021-07-20T16:57:28.344902Z"
    }
   },
   "outputs": [
    {
     "data": {
      "text/plain": [
       "(605766, 27)"
      ]
     },
     "execution_count": 33,
     "metadata": {},
     "output_type": "execute_result"
    }
   ],
   "source": [
    "# Merge. Correctly this time to avoid duplicate columns. \n",
    "model_ready = pd.merge(combo, tracks, how='outer', \n",
    "                   left_on=['Song', 'Performer', 'spotify_track_id', 'danceability', 'energy', 'key', \n",
    "                            'loudness', 'mode',\n",
    "                            'speechiness','acousticness','instrumentalness', 'liveness', 'valence',\n",
    "                            'tempo', 'time_signature'], \n",
    "                   right_on=['Song', 'Performer', 'spotify_track_id', 'danceability', 'energy', 'key', \n",
    "                             'loudness', 'mode',\n",
    "                            'speechiness','acousticness','instrumentalness', 'liveness', 'valence',\n",
    "                            'tempo', 'time_signature'])\n",
    "model_ready.shape"
   ]
  },
  {
   "cell_type": "code",
   "execution_count": 34,
   "id": "4b8077ce",
   "metadata": {
    "ExecuteTime": {
     "end_time": "2021-07-20T16:57:40.354324Z",
     "start_time": "2021-07-20T16:57:40.111605Z"
    }
   },
   "outputs": [
    {
     "data": {
      "text/html": [
       "<div>\n",
       "<style scoped>\n",
       "    .dataframe tbody tr th:only-of-type {\n",
       "        vertical-align: middle;\n",
       "    }\n",
       "\n",
       "    .dataframe tbody tr th {\n",
       "        vertical-align: top;\n",
       "    }\n",
       "\n",
       "    .dataframe thead th {\n",
       "        text-align: right;\n",
       "    }\n",
       "</style>\n",
       "<table border=\"1\" class=\"dataframe\">\n",
       "  <thead>\n",
       "    <tr style=\"text-align: right;\">\n",
       "      <th></th>\n",
       "      <th>WeekID</th>\n",
       "      <th>Song</th>\n",
       "      <th>Performer</th>\n",
       "      <th>SongID</th>\n",
       "      <th>Peak Position</th>\n",
       "      <th>Weeks on Chart</th>\n",
       "      <th>spotify_genre</th>\n",
       "      <th>spotify_track_id</th>\n",
       "      <th>spotify_track_duration_ms</th>\n",
       "      <th>spotify_track_explicit</th>\n",
       "      <th>...</th>\n",
       "      <th>instrumentalness</th>\n",
       "      <th>liveness</th>\n",
       "      <th>valence</th>\n",
       "      <th>tempo</th>\n",
       "      <th>time_signature</th>\n",
       "      <th>top100</th>\n",
       "      <th>duration_ms</th>\n",
       "      <th>explicit</th>\n",
       "      <th>id_artists</th>\n",
       "      <th>release_date</th>\n",
       "    </tr>\n",
       "  </thead>\n",
       "  <tbody>\n",
       "    <tr>\n",
       "      <th>16053</th>\n",
       "      <td>2014-03-15</td>\n",
       "      <td>Rap God</td>\n",
       "      <td>Eminem</td>\n",
       "      <td>Rap GodEminem</td>\n",
       "      <td>7.0</td>\n",
       "      <td>20.0</td>\n",
       "      <td>[detroit hip hop, g funk, hip hop, rap]</td>\n",
       "      <td>6or1bKJiZ06IlK0vFvY75k</td>\n",
       "      <td>363521.0</td>\n",
       "      <td>1.0</td>\n",
       "      <td>...</td>\n",
       "      <td>0.0</td>\n",
       "      <td>0.799</td>\n",
       "      <td>0.625</td>\n",
       "      <td>148.14</td>\n",
       "      <td>4.0</td>\n",
       "      <td>1.0</td>\n",
       "      <td>363521.0</td>\n",
       "      <td>1.0</td>\n",
       "      <td>7dGJo4pcD2V6oG8kP0tJRR</td>\n",
       "      <td>2013-11-05</td>\n",
       "    </tr>\n",
       "  </tbody>\n",
       "</table>\n",
       "<p>1 rows × 27 columns</p>\n",
       "</div>"
      ],
      "text/plain": [
       "          WeekID     Song Performer         SongID  Peak Position  \\\n",
       "16053 2014-03-15  Rap God    Eminem  Rap GodEminem            7.0   \n",
       "\n",
       "       Weeks on Chart                            spotify_genre  \\\n",
       "16053            20.0  [detroit hip hop, g funk, hip hop, rap]   \n",
       "\n",
       "             spotify_track_id  spotify_track_duration_ms  \\\n",
       "16053  6or1bKJiZ06IlK0vFvY75k                   363521.0   \n",
       "\n",
       "       spotify_track_explicit  ...  instrumentalness  liveness  valence  \\\n",
       "16053                     1.0  ...               0.0     0.799    0.625   \n",
       "\n",
       "        tempo  time_signature  top100  duration_ms  explicit  \\\n",
       "16053  148.14             4.0     1.0     363521.0       1.0   \n",
       "\n",
       "                   id_artists  release_date  \n",
       "16053  7dGJo4pcD2V6oG8kP0tJRR    2013-11-05  \n",
       "\n",
       "[1 rows x 27 columns]"
      ]
     },
     "execution_count": 34,
     "metadata": {},
     "output_type": "execute_result"
    }
   ],
   "source": [
    "model_ready[model_ready['spotify_track_id'] == \"6or1bKJiZ06IlK0vFvY75k\"]"
   ]
  },
  {
   "cell_type": "code",
   "execution_count": 35,
   "id": "f3acec4c",
   "metadata": {
    "ExecuteTime": {
     "end_time": "2021-07-20T16:57:47.759973Z",
     "start_time": "2021-07-20T16:57:47.569218Z"
    }
   },
   "outputs": [
    {
     "name": "stdout",
     "output_type": "stream",
     "text": [
      "<class 'pandas.core.frame.DataFrame'>\n",
      "Int64Index: 605766 entries, 0 to 605765\n",
      "Data columns (total 27 columns):\n",
      " #   Column                     Non-Null Count   Dtype         \n",
      "---  ------                     --------------   -----         \n",
      " 0   WeekID                     24185 non-null   datetime64[ns]\n",
      " 1   Song                       605695 non-null  object        \n",
      " 2   Performer                  605766 non-null  object        \n",
      " 3   SongID                     24185 non-null   object        \n",
      " 4   Peak Position              24185 non-null   float64       \n",
      " 5   Weeks on Chart             24185 non-null   float64       \n",
      " 6   spotify_genre              24185 non-null   object        \n",
      " 7   spotify_track_id           605766 non-null  object        \n",
      " 8   spotify_track_duration_ms  24185 non-null   float64       \n",
      " 9   spotify_track_explicit     24185 non-null   float64       \n",
      " 10  danceability               605766 non-null  float64       \n",
      " 11  energy                     605766 non-null  float64       \n",
      " 12  key                        605766 non-null  float64       \n",
      " 13  loudness                   605766 non-null  float64       \n",
      " 14  mode                       605766 non-null  float64       \n",
      " 15  speechiness                605766 non-null  float64       \n",
      " 16  acousticness               605766 non-null  float64       \n",
      " 17  instrumentalness           605766 non-null  float64       \n",
      " 18  liveness                   605766 non-null  float64       \n",
      " 19  valence                    605766 non-null  float64       \n",
      " 20  tempo                      605766 non-null  float64       \n",
      " 21  time_signature             605766 non-null  float64       \n",
      " 22  top100                     24185 non-null   float64       \n",
      " 23  duration_ms                586713 non-null  float64       \n",
      " 24  explicit                   586713 non-null  float64       \n",
      " 25  id_artists                 586713 non-null  object        \n",
      " 26  release_date               586713 non-null  object        \n",
      "dtypes: datetime64[ns](1), float64(19), object(7)\n",
      "memory usage: 129.4+ MB\n"
     ]
    }
   ],
   "source": [
    "model_ready.info()"
   ]
  },
  {
   "cell_type": "code",
   "execution_count": 36,
   "id": "ab3693fc",
   "metadata": {
    "ExecuteTime": {
     "end_time": "2021-07-20T16:59:08.935248Z",
     "start_time": "2021-07-20T16:59:08.914908Z"
    }
   },
   "outputs": [
    {
     "data": {
      "text/plain": [
       "array([ 1., nan])"
      ]
     },
     "execution_count": 36,
     "metadata": {},
     "output_type": "execute_result"
    }
   ],
   "source": [
    "# Songs that didn't sync up are songs not in the Hot 100. \n",
    "# On merge, values for them on columns that didn't exist become nan\n",
    "model_ready['top100'].unique()"
   ]
  },
  {
   "cell_type": "code",
   "execution_count": 37,
   "id": "d3110139",
   "metadata": {
    "ExecuteTime": {
     "end_time": "2021-07-20T16:59:36.724767Z",
     "start_time": "2021-07-20T16:59:36.712135Z"
    }
   },
   "outputs": [],
   "source": [
    "# Replace nan values with 0. (mainly for column 'top100')\n",
    "model_ready['top100'] = model_ready['top100'].fillna(0)"
   ]
  },
  {
   "cell_type": "code",
   "execution_count": 38,
   "id": "06e6d062",
   "metadata": {
    "ExecuteTime": {
     "end_time": "2021-07-20T17:00:45.563328Z",
     "start_time": "2021-07-20T17:00:44.957178Z"
    }
   },
   "outputs": [
    {
     "data": {
      "text/html": [
       "<div>\n",
       "<style scoped>\n",
       "    .dataframe tbody tr th:only-of-type {\n",
       "        vertical-align: middle;\n",
       "    }\n",
       "\n",
       "    .dataframe tbody tr th {\n",
       "        vertical-align: top;\n",
       "    }\n",
       "\n",
       "    .dataframe thead th {\n",
       "        text-align: right;\n",
       "    }\n",
       "</style>\n",
       "<table border=\"1\" class=\"dataframe\">\n",
       "  <thead>\n",
       "    <tr style=\"text-align: right;\">\n",
       "      <th></th>\n",
       "      <th>WeekID</th>\n",
       "      <th>Song</th>\n",
       "      <th>Performer</th>\n",
       "      <th>SongID</th>\n",
       "      <th>Peak Position</th>\n",
       "      <th>Weeks on Chart</th>\n",
       "      <th>spotify_genre</th>\n",
       "      <th>spotify_track_id</th>\n",
       "      <th>spotify_track_duration_ms</th>\n",
       "      <th>spotify_track_explicit</th>\n",
       "      <th>...</th>\n",
       "      <th>instrumentalness</th>\n",
       "      <th>liveness</th>\n",
       "      <th>valence</th>\n",
       "      <th>tempo</th>\n",
       "      <th>time_signature</th>\n",
       "      <th>top100</th>\n",
       "      <th>duration_ms</th>\n",
       "      <th>explicit</th>\n",
       "      <th>id_artists</th>\n",
       "      <th>release_date</th>\n",
       "    </tr>\n",
       "  </thead>\n",
       "  <tbody>\n",
       "    <tr>\n",
       "      <th>0</th>\n",
       "      <td>1965-05-15</td>\n",
       "      <td>......And Roses And Roses</td>\n",
       "      <td>Andy Williams</td>\n",
       "      <td>......And Roses And RosesAndy Williams</td>\n",
       "      <td>36.0</td>\n",
       "      <td>7.0</td>\n",
       "      <td>[adult standards, brill building pop, easy lis...</td>\n",
       "      <td>3tvqPPpXyIgKrm4PR9HCf0</td>\n",
       "      <td>166106.0</td>\n",
       "      <td>0.0</td>\n",
       "      <td>...</td>\n",
       "      <td>0.000267</td>\n",
       "      <td>0.1120</td>\n",
       "      <td>0.1500</td>\n",
       "      <td>83.969</td>\n",
       "      <td>4.0</td>\n",
       "      <td>1.0</td>\n",
       "      <td>NaN</td>\n",
       "      <td>NaN</td>\n",
       "      <td>NaN</td>\n",
       "      <td>NaN</td>\n",
       "    </tr>\n",
       "    <tr>\n",
       "      <th>5</th>\n",
       "      <td>1976-05-29</td>\n",
       "      <td>'til I Can Make It On My Own</td>\n",
       "      <td>Tammy Wynette</td>\n",
       "      <td>'til I Can Make It On My OwnTammy Wynette</td>\n",
       "      <td>84.0</td>\n",
       "      <td>5.0</td>\n",
       "      <td>[country, country dawn, nashville sound]</td>\n",
       "      <td>0aJHZYjwbfTmeyUWF7zGxI</td>\n",
       "      <td>182080.0</td>\n",
       "      <td>0.0</td>\n",
       "      <td>...</td>\n",
       "      <td>0.000035</td>\n",
       "      <td>0.1080</td>\n",
       "      <td>0.1460</td>\n",
       "      <td>141.148</td>\n",
       "      <td>4.0</td>\n",
       "      <td>1.0</td>\n",
       "      <td>NaN</td>\n",
       "      <td>NaN</td>\n",
       "      <td>NaN</td>\n",
       "      <td>NaN</td>\n",
       "    </tr>\n",
       "    <tr>\n",
       "      <th>7</th>\n",
       "      <td>2010-05-15</td>\n",
       "      <td>'Til Summer Comes Around</td>\n",
       "      <td>Keith Urban</td>\n",
       "      <td>'Til Summer Comes AroundKeith Urban</td>\n",
       "      <td>58.0</td>\n",
       "      <td>16.0</td>\n",
       "      <td>[australian country, contemporary country, cou...</td>\n",
       "      <td>1CKmI1IQjVEVB3F7VmJmM3</td>\n",
       "      <td>331466.0</td>\n",
       "      <td>0.0</td>\n",
       "      <td>...</td>\n",
       "      <td>0.000136</td>\n",
       "      <td>0.7700</td>\n",
       "      <td>0.3080</td>\n",
       "      <td>127.907</td>\n",
       "      <td>4.0</td>\n",
       "      <td>1.0</td>\n",
       "      <td>NaN</td>\n",
       "      <td>NaN</td>\n",
       "      <td>NaN</td>\n",
       "      <td>NaN</td>\n",
       "    </tr>\n",
       "    <tr>\n",
       "      <th>8</th>\n",
       "      <td>1995-12-02</td>\n",
       "      <td>'Til You Do Me Right</td>\n",
       "      <td>After 7</td>\n",
       "      <td>'Til You Do Me RightAfter 7</td>\n",
       "      <td>31.0</td>\n",
       "      <td>22.0</td>\n",
       "      <td>[funk, neo soul, new jack swing, quiet storm, ...</td>\n",
       "      <td>3kGMziz884MLV1oCwrarmN</td>\n",
       "      <td>295000.0</td>\n",
       "      <td>0.0</td>\n",
       "      <td>...</td>\n",
       "      <td>0.000000</td>\n",
       "      <td>0.0763</td>\n",
       "      <td>0.4330</td>\n",
       "      <td>76.744</td>\n",
       "      <td>4.0</td>\n",
       "      <td>1.0</td>\n",
       "      <td>NaN</td>\n",
       "      <td>NaN</td>\n",
       "      <td>NaN</td>\n",
       "      <td>NaN</td>\n",
       "    </tr>\n",
       "    <tr>\n",
       "      <th>9</th>\n",
       "      <td>1962-01-27</td>\n",
       "      <td>'Til</td>\n",
       "      <td>The Angels</td>\n",
       "      <td>'TilThe Angels</td>\n",
       "      <td>14.0</td>\n",
       "      <td>15.0</td>\n",
       "      <td>[blues rock, garage rock, modern blues rock, n...</td>\n",
       "      <td>6cMBpazQUSw6xYiLNYvQzf</td>\n",
       "      <td>148440.0</td>\n",
       "      <td>0.0</td>\n",
       "      <td>...</td>\n",
       "      <td>0.000180</td>\n",
       "      <td>0.0939</td>\n",
       "      <td>0.3070</td>\n",
       "      <td>173.819</td>\n",
       "      <td>3.0</td>\n",
       "      <td>1.0</td>\n",
       "      <td>NaN</td>\n",
       "      <td>NaN</td>\n",
       "      <td>NaN</td>\n",
       "      <td>NaN</td>\n",
       "    </tr>\n",
       "    <tr>\n",
       "      <th>...</th>\n",
       "      <td>...</td>\n",
       "      <td>...</td>\n",
       "      <td>...</td>\n",
       "      <td>...</td>\n",
       "      <td>...</td>\n",
       "      <td>...</td>\n",
       "      <td>...</td>\n",
       "      <td>...</td>\n",
       "      <td>...</td>\n",
       "      <td>...</td>\n",
       "      <td>...</td>\n",
       "      <td>...</td>\n",
       "      <td>...</td>\n",
       "      <td>...</td>\n",
       "      <td>...</td>\n",
       "      <td>...</td>\n",
       "      <td>...</td>\n",
       "      <td>...</td>\n",
       "      <td>...</td>\n",
       "      <td>...</td>\n",
       "      <td>...</td>\n",
       "    </tr>\n",
       "    <tr>\n",
       "      <th>605761</th>\n",
       "      <td>NaT</td>\n",
       "      <td>云与海</td>\n",
       "      <td>阿YueYue</td>\n",
       "      <td>NaN</td>\n",
       "      <td>NaN</td>\n",
       "      <td>NaN</td>\n",
       "      <td>NaN</td>\n",
       "      <td>5rgu12WBIHQtvej2MdHSH0</td>\n",
       "      <td>NaN</td>\n",
       "      <td>NaN</td>\n",
       "      <td>...</td>\n",
       "      <td>0.000000</td>\n",
       "      <td>0.0648</td>\n",
       "      <td>0.2110</td>\n",
       "      <td>131.896</td>\n",
       "      <td>4.0</td>\n",
       "      <td>0.0</td>\n",
       "      <td>258267.0</td>\n",
       "      <td>0.0</td>\n",
       "      <td>1QLBXKM5GCpyQQSVMNZqrZ</td>\n",
       "      <td>2020-09-26</td>\n",
       "    </tr>\n",
       "    <tr>\n",
       "      <th>605762</th>\n",
       "      <td>NaT</td>\n",
       "      <td>blind</td>\n",
       "      <td>ROLE MODEL</td>\n",
       "      <td>NaN</td>\n",
       "      <td>NaN</td>\n",
       "      <td>NaN</td>\n",
       "      <td>NaN</td>\n",
       "      <td>0NuWgxEp51CutD2pJoF4OM</td>\n",
       "      <td>NaN</td>\n",
       "      <td>NaN</td>\n",
       "      <td>...</td>\n",
       "      <td>0.000297</td>\n",
       "      <td>0.0924</td>\n",
       "      <td>0.6860</td>\n",
       "      <td>150.091</td>\n",
       "      <td>4.0</td>\n",
       "      <td>0.0</td>\n",
       "      <td>153293.0</td>\n",
       "      <td>0.0</td>\n",
       "      <td>1dy5WNgIKQU6ezkpZs4y8z</td>\n",
       "      <td>2020-10-21</td>\n",
       "    </tr>\n",
       "    <tr>\n",
       "      <th>605763</th>\n",
       "      <td>NaT</td>\n",
       "      <td>What They'll Say About Us</td>\n",
       "      <td>FINNEAS</td>\n",
       "      <td>NaN</td>\n",
       "      <td>NaN</td>\n",
       "      <td>NaN</td>\n",
       "      <td>NaN</td>\n",
       "      <td>27Y1N4Q4U3EfDU5Ubw8ws2</td>\n",
       "      <td>NaN</td>\n",
       "      <td>NaN</td>\n",
       "      <td>...</td>\n",
       "      <td>0.000150</td>\n",
       "      <td>0.0874</td>\n",
       "      <td>0.0663</td>\n",
       "      <td>145.095</td>\n",
       "      <td>4.0</td>\n",
       "      <td>0.0</td>\n",
       "      <td>187601.0</td>\n",
       "      <td>0.0</td>\n",
       "      <td>37M5pPGs6V1fchFJSgCguX</td>\n",
       "      <td>2020-09-02</td>\n",
       "    </tr>\n",
       "    <tr>\n",
       "      <th>605764</th>\n",
       "      <td>NaT</td>\n",
       "      <td>A Day At A Time</td>\n",
       "      <td>Gentle Bones', 'Clara Benin</td>\n",
       "      <td>NaN</td>\n",
       "      <td>NaN</td>\n",
       "      <td>NaN</td>\n",
       "      <td>NaN</td>\n",
       "      <td>45XJsGpFTyzbzeWK8VzR8S</td>\n",
       "      <td>NaN</td>\n",
       "      <td>NaN</td>\n",
       "      <td>...</td>\n",
       "      <td>0.000003</td>\n",
       "      <td>0.3050</td>\n",
       "      <td>0.4380</td>\n",
       "      <td>90.029</td>\n",
       "      <td>4.0</td>\n",
       "      <td>0.0</td>\n",
       "      <td>142003.0</td>\n",
       "      <td>0.0</td>\n",
       "      <td>4jGPdu95icCKVF31CcFKbS', '5ebPSE9YI5aLeZ1Z2gkqjn</td>\n",
       "      <td>2021-03-05</td>\n",
       "    </tr>\n",
       "    <tr>\n",
       "      <th>605765</th>\n",
       "      <td>NaT</td>\n",
       "      <td>Mar de Emociones</td>\n",
       "      <td>Afrosound</td>\n",
       "      <td>NaN</td>\n",
       "      <td>NaN</td>\n",
       "      <td>NaN</td>\n",
       "      <td>NaN</td>\n",
       "      <td>5Ocn6dZ3BJFPWh4ylwFXtn</td>\n",
       "      <td>NaN</td>\n",
       "      <td>NaN</td>\n",
       "      <td>...</td>\n",
       "      <td>0.000000</td>\n",
       "      <td>0.2640</td>\n",
       "      <td>0.9750</td>\n",
       "      <td>112.204</td>\n",
       "      <td>4.0</td>\n",
       "      <td>0.0</td>\n",
       "      <td>214360.0</td>\n",
       "      <td>0.0</td>\n",
       "      <td>0i4Qda0k4nf7jnNHmSNpYv</td>\n",
       "      <td>2015-07-01</td>\n",
       "    </tr>\n",
       "  </tbody>\n",
       "</table>\n",
       "<p>600634 rows × 27 columns</p>\n",
       "</div>"
      ],
      "text/plain": [
       "           WeekID                          Song                    Performer  \\\n",
       "0      1965-05-15     ......And Roses And Roses                Andy Williams   \n",
       "5      1976-05-29  'til I Can Make It On My Own                Tammy Wynette   \n",
       "7      2010-05-15      'Til Summer Comes Around                  Keith Urban   \n",
       "8      1995-12-02          'Til You Do Me Right                      After 7   \n",
       "9      1962-01-27                          'Til                   The Angels   \n",
       "...           ...                           ...                          ...   \n",
       "605761        NaT                           云与海                      阿YueYue   \n",
       "605762        NaT                         blind                   ROLE MODEL   \n",
       "605763        NaT     What They'll Say About Us                      FINNEAS   \n",
       "605764        NaT               A Day At A Time  Gentle Bones', 'Clara Benin   \n",
       "605765        NaT              Mar de Emociones                    Afrosound   \n",
       "\n",
       "                                           SongID  Peak Position  \\\n",
       "0          ......And Roses And RosesAndy Williams           36.0   \n",
       "5       'til I Can Make It On My OwnTammy Wynette           84.0   \n",
       "7             'Til Summer Comes AroundKeith Urban           58.0   \n",
       "8                     'Til You Do Me RightAfter 7           31.0   \n",
       "9                                  'TilThe Angels           14.0   \n",
       "...                                           ...            ...   \n",
       "605761                                        NaN            NaN   \n",
       "605762                                        NaN            NaN   \n",
       "605763                                        NaN            NaN   \n",
       "605764                                        NaN            NaN   \n",
       "605765                                        NaN            NaN   \n",
       "\n",
       "        Weeks on Chart                                      spotify_genre  \\\n",
       "0                  7.0  [adult standards, brill building pop, easy lis...   \n",
       "5                  5.0           [country, country dawn, nashville sound]   \n",
       "7                 16.0  [australian country, contemporary country, cou...   \n",
       "8                 22.0  [funk, neo soul, new jack swing, quiet storm, ...   \n",
       "9                 15.0  [blues rock, garage rock, modern blues rock, n...   \n",
       "...                ...                                                ...   \n",
       "605761             NaN                                                NaN   \n",
       "605762             NaN                                                NaN   \n",
       "605763             NaN                                                NaN   \n",
       "605764             NaN                                                NaN   \n",
       "605765             NaN                                                NaN   \n",
       "\n",
       "              spotify_track_id  spotify_track_duration_ms  \\\n",
       "0       3tvqPPpXyIgKrm4PR9HCf0                   166106.0   \n",
       "5       0aJHZYjwbfTmeyUWF7zGxI                   182080.0   \n",
       "7       1CKmI1IQjVEVB3F7VmJmM3                   331466.0   \n",
       "8       3kGMziz884MLV1oCwrarmN                   295000.0   \n",
       "9       6cMBpazQUSw6xYiLNYvQzf                   148440.0   \n",
       "...                        ...                        ...   \n",
       "605761  5rgu12WBIHQtvej2MdHSH0                        NaN   \n",
       "605762  0NuWgxEp51CutD2pJoF4OM                        NaN   \n",
       "605763  27Y1N4Q4U3EfDU5Ubw8ws2                        NaN   \n",
       "605764  45XJsGpFTyzbzeWK8VzR8S                        NaN   \n",
       "605765  5Ocn6dZ3BJFPWh4ylwFXtn                        NaN   \n",
       "\n",
       "        spotify_track_explicit  ...  instrumentalness  liveness  valence  \\\n",
       "0                          0.0  ...          0.000267    0.1120   0.1500   \n",
       "5                          0.0  ...          0.000035    0.1080   0.1460   \n",
       "7                          0.0  ...          0.000136    0.7700   0.3080   \n",
       "8                          0.0  ...          0.000000    0.0763   0.4330   \n",
       "9                          0.0  ...          0.000180    0.0939   0.3070   \n",
       "...                        ...  ...               ...       ...      ...   \n",
       "605761                     NaN  ...          0.000000    0.0648   0.2110   \n",
       "605762                     NaN  ...          0.000297    0.0924   0.6860   \n",
       "605763                     NaN  ...          0.000150    0.0874   0.0663   \n",
       "605764                     NaN  ...          0.000003    0.3050   0.4380   \n",
       "605765                     NaN  ...          0.000000    0.2640   0.9750   \n",
       "\n",
       "          tempo  time_signature  top100  duration_ms  explicit  \\\n",
       "0        83.969             4.0     1.0          NaN       NaN   \n",
       "5       141.148             4.0     1.0          NaN       NaN   \n",
       "7       127.907             4.0     1.0          NaN       NaN   \n",
       "8        76.744             4.0     1.0          NaN       NaN   \n",
       "9       173.819             3.0     1.0          NaN       NaN   \n",
       "...         ...             ...     ...          ...       ...   \n",
       "605761  131.896             4.0     0.0     258267.0       0.0   \n",
       "605762  150.091             4.0     0.0     153293.0       0.0   \n",
       "605763  145.095             4.0     0.0     187601.0       0.0   \n",
       "605764   90.029             4.0     0.0     142003.0       0.0   \n",
       "605765  112.204             4.0     0.0     214360.0       0.0   \n",
       "\n",
       "                                              id_artists  release_date  \n",
       "0                                                    NaN           NaN  \n",
       "5                                                    NaN           NaN  \n",
       "7                                                    NaN           NaN  \n",
       "8                                                    NaN           NaN  \n",
       "9                                                    NaN           NaN  \n",
       "...                                                  ...           ...  \n",
       "605761                            1QLBXKM5GCpyQQSVMNZqrZ    2020-09-26  \n",
       "605762                            1dy5WNgIKQU6ezkpZs4y8z    2020-10-21  \n",
       "605763                            37M5pPGs6V1fchFJSgCguX    2020-09-02  \n",
       "605764  4jGPdu95icCKVF31CcFKbS', '5ebPSE9YI5aLeZ1Z2gkqjn    2021-03-05  \n",
       "605765                            0i4Qda0k4nf7jnNHmSNpYv    2015-07-01  \n",
       "\n",
       "[600634 rows x 27 columns]"
      ]
     },
     "execution_count": 38,
     "metadata": {},
     "output_type": "execute_result"
    }
   ],
   "source": [
    "# Check if nan's are converted/ nan is in any column we care about.\n",
    "model_ready[model_ready.isna().any(axis=1)]"
   ]
  },
  {
   "cell_type": "code",
   "execution_count": 39,
   "id": "dfe3c449",
   "metadata": {
    "ExecuteTime": {
     "end_time": "2021-07-20T17:01:11.836911Z",
     "start_time": "2021-07-20T17:01:11.796634Z"
    }
   },
   "outputs": [
    {
     "data": {
      "text/plain": [
       "WeekID                       24185\n",
       "Song                         24185\n",
       "Performer                    24185\n",
       "SongID                       24185\n",
       "Peak Position                24185\n",
       "Weeks on Chart               24185\n",
       "spotify_genre                24185\n",
       "spotify_track_id             24185\n",
       "spotify_track_duration_ms    24185\n",
       "spotify_track_explicit       24185\n",
       "danceability                 24185\n",
       "energy                       24185\n",
       "key                          24185\n",
       "loudness                     24185\n",
       "mode                         24185\n",
       "speechiness                  24185\n",
       "acousticness                 24185\n",
       "instrumentalness             24185\n",
       "liveness                     24185\n",
       "valence                      24185\n",
       "tempo                        24185\n",
       "time_signature               24185\n",
       "top100                       24185\n",
       "duration_ms                   5132\n",
       "explicit                      5132\n",
       "id_artists                    5132\n",
       "release_date                  5132\n",
       "dtype: int64"
      ]
     },
     "execution_count": 39,
     "metadata": {},
     "output_type": "execute_result"
    }
   ],
   "source": [
    "# Check count for songs in the Top 100\n",
    "model_ready[model_ready['top100'] == 1.0].count()"
   ]
  },
  {
   "cell_type": "code",
   "execution_count": 40,
   "id": "de319cc4",
   "metadata": {
    "ExecuteTime": {
     "end_time": "2021-07-20T17:01:39.931840Z",
     "start_time": "2021-07-20T17:01:39.671499Z"
    }
   },
   "outputs": [
    {
     "data": {
      "text/plain": [
       "WeekID                            0\n",
       "Song                         581510\n",
       "Performer                    581581\n",
       "SongID                            0\n",
       "Peak Position                     0\n",
       "Weeks on Chart                    0\n",
       "spotify_genre                     0\n",
       "spotify_track_id             581581\n",
       "spotify_track_duration_ms         0\n",
       "spotify_track_explicit            0\n",
       "danceability                 581581\n",
       "energy                       581581\n",
       "key                          581581\n",
       "loudness                     581581\n",
       "mode                         581581\n",
       "speechiness                  581581\n",
       "acousticness                 581581\n",
       "instrumentalness             581581\n",
       "liveness                     581581\n",
       "valence                      581581\n",
       "tempo                        581581\n",
       "time_signature               581581\n",
       "top100                       581581\n",
       "duration_ms                  581581\n",
       "explicit                     581581\n",
       "id_artists                   581581\n",
       "release_date                 581581\n",
       "dtype: int64"
      ]
     },
     "execution_count": 40,
     "metadata": {},
     "output_type": "execute_result"
    }
   ],
   "source": [
    "# Check count for songs not in the Top 100\n",
    "model_ready[model_ready['top100'] == 0.0].count()"
   ]
  },
  {
   "cell_type": "code",
   "execution_count": 42,
   "id": "88fe1b5f",
   "metadata": {
    "ExecuteTime": {
     "end_time": "2021-07-20T17:02:22.219896Z",
     "start_time": "2021-07-20T17:02:22.075581Z"
    }
   },
   "outputs": [],
   "source": [
    "model_ready.sort_values('top100', ascending =False, inplace=True)"
   ]
  },
  {
   "cell_type": "code",
   "execution_count": 43,
   "id": "87aaea9b",
   "metadata": {
    "ExecuteTime": {
     "end_time": "2021-07-20T17:03:05.495474Z",
     "start_time": "2021-07-20T17:03:05.459495Z"
    }
   },
   "outputs": [
    {
     "data": {
      "text/plain": [
       "WeekID                                          NaT\n",
       "Song                                          Carve\n",
       "Performer                                       Uli\n",
       "SongID                                          NaN\n",
       "Peak Position                                   NaN\n",
       "Weeks on Chart                                  NaN\n",
       "spotify_genre                                   NaN\n",
       "spotify_track_id             35iwgR4jXetI318WEWsa1Q\n",
       "spotify_track_duration_ms                       NaN\n",
       "spotify_track_explicit                          NaN\n",
       "danceability                                  0.645\n",
       "energy                                        0.445\n",
       "key                                             0.0\n",
       "loudness                                    -13.338\n",
       "mode                                            1.0\n",
       "speechiness                                   0.451\n",
       "acousticness                                  0.674\n",
       "instrumentalness                              0.744\n",
       "liveness                                      0.151\n",
       "valence                                       0.127\n",
       "tempo                                       104.851\n",
       "time_signature                                  3.0\n",
       "top100                                          0.0\n",
       "duration_ms                                126903.0\n",
       "explicit                                        0.0\n",
       "id_artists                   45tIt06XoI0Iio4LBEVpls\n",
       "release_date                             1922-02-22\n",
       "Name: 24185, dtype: object"
      ]
     },
     "execution_count": 43,
     "metadata": {},
     "output_type": "execute_result"
    }
   ],
   "source": [
    "# Pay attention to Top100 when switching between 24184-24186\n",
    "model_ready.loc[24185]  # log_reg.loc[24186] "
   ]
  },
  {
   "cell_type": "code",
   "execution_count": 51,
   "id": "2e17adc0",
   "metadata": {
    "ExecuteTime": {
     "end_time": "2021-07-20T17:04:57.383070Z",
     "start_time": "2021-07-20T17:04:56.472632Z"
    }
   },
   "outputs": [],
   "source": [
    "# Merge for a perfect Dataset to predict Top100.\n",
    "model_ready_df = pd.concat([model_ready[:24185],\n",
    "                          model_ready[24185:].sample(24190)])"
   ]
  },
  {
   "cell_type": "code",
   "execution_count": 52,
   "id": "d0b1fdc5",
   "metadata": {
    "ExecuteTime": {
     "end_time": "2021-07-20T17:04:58.386697Z",
     "start_time": "2021-07-20T17:04:58.347347Z"
    },
    "code_folding": []
   },
   "outputs": [
    {
     "data": {
      "text/plain": [
       "WeekID                       24185\n",
       "Song                         24185\n",
       "Performer                    24185\n",
       "SongID                       24185\n",
       "Peak Position                24185\n",
       "Weeks on Chart               24185\n",
       "spotify_genre                24185\n",
       "spotify_track_id             24185\n",
       "spotify_track_duration_ms    24185\n",
       "spotify_track_explicit       24185\n",
       "danceability                 24185\n",
       "energy                       24185\n",
       "key                          24185\n",
       "loudness                     24185\n",
       "mode                         24185\n",
       "speechiness                  24185\n",
       "acousticness                 24185\n",
       "instrumentalness             24185\n",
       "liveness                     24185\n",
       "valence                      24185\n",
       "tempo                        24185\n",
       "time_signature               24185\n",
       "top100                       24185\n",
       "duration_ms                   5132\n",
       "explicit                      5132\n",
       "id_artists                    5132\n",
       "release_date                  5132\n",
       "dtype: int64"
      ]
     },
     "execution_count": 52,
     "metadata": {},
     "output_type": "execute_result"
    }
   ],
   "source": [
    "# Check New dataset\n",
    "model_ready_df[model_ready_df['top100'] == 1.0].count()"
   ]
  },
  {
   "cell_type": "code",
   "execution_count": 53,
   "id": "fc8e6233",
   "metadata": {
    "ExecuteTime": {
     "end_time": "2021-07-20T17:04:59.354704Z",
     "start_time": "2021-07-20T17:04:59.326160Z"
    }
   },
   "outputs": [
    {
     "data": {
      "text/plain": [
       "WeekID                           0\n",
       "Song                         24190\n",
       "Performer                    24190\n",
       "SongID                           0\n",
       "Peak Position                    0\n",
       "Weeks on Chart                   0\n",
       "spotify_genre                    0\n",
       "spotify_track_id             24190\n",
       "spotify_track_duration_ms        0\n",
       "spotify_track_explicit           0\n",
       "danceability                 24190\n",
       "energy                       24190\n",
       "key                          24190\n",
       "loudness                     24190\n",
       "mode                         24190\n",
       "speechiness                  24190\n",
       "acousticness                 24190\n",
       "instrumentalness             24190\n",
       "liveness                     24190\n",
       "valence                      24190\n",
       "tempo                        24190\n",
       "time_signature               24190\n",
       "top100                       24190\n",
       "duration_ms                  24190\n",
       "explicit                     24190\n",
       "id_artists                   24190\n",
       "release_date                 24190\n",
       "dtype: int64"
      ]
     },
     "execution_count": 53,
     "metadata": {},
     "output_type": "execute_result"
    }
   ],
   "source": [
    "model_ready_df[model_ready_df['top100'] == 0.0].count()"
   ]
  },
  {
   "cell_type": "code",
   "execution_count": null,
   "id": "66ff62fd",
   "metadata": {},
   "outputs": [],
   "source": [
    "model_ready_df.to_csv(\"cleaned_and_balanced_top100\")"
   ]
  },
  {
   "cell_type": "markdown",
   "id": "92b7feb5",
   "metadata": {},
   "source": [
    "## End"
   ]
  }
 ],
 "metadata": {
  "hide_input": false,
  "kernelspec": {
   "display_name": "Python 3",
   "language": "python",
   "name": "python3"
  },
  "language_info": {
   "codemirror_mode": {
    "name": "ipython",
    "version": 3
   },
   "file_extension": ".py",
   "mimetype": "text/x-python",
   "name": "python",
   "nbconvert_exporter": "python",
   "pygments_lexer": "ipython3",
   "version": "3.8.8"
  },
  "varInspector": {
   "cols": {
    "lenName": 16,
    "lenType": 16,
    "lenVar": 40
   },
   "kernels_config": {
    "python": {
     "delete_cmd_postfix": "",
     "delete_cmd_prefix": "del ",
     "library": "var_list.py",
     "varRefreshCmd": "print(var_dic_list())"
    },
    "r": {
     "delete_cmd_postfix": ") ",
     "delete_cmd_prefix": "rm(",
     "library": "var_list.r",
     "varRefreshCmd": "cat(var_dic_list()) "
    }
   },
   "types_to_exclude": [
    "module",
    "function",
    "builtin_function_or_method",
    "instance",
    "_Feature"
   ],
   "window_display": false
  }
 },
 "nbformat": 4,
 "nbformat_minor": 5
}
